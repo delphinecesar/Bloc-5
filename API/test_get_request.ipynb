{
 "cells": [
  {
   "cell_type": "code",
   "execution_count": 1,
   "metadata": {},
   "outputs": [],
   "source": [
    "import requests"
   ]
  },
  {
   "cell_type": "code",
   "execution_count": 3,
   "metadata": {},
   "outputs": [
    {
     "name": "stdout",
     "output_type": "stream",
     "text": [
      "{'prediction': 151.22699431620757}\n"
     ]
    }
   ],
   "source": [
    "response = requests.post(\"https://getaround-api-dc-e2058e383f63.herokuapp.com/predict\", json={\n",
    "  \"model_key\": \"Peugeot\",\n",
    "  \"mileage\": 13131,\n",
    "  \"engine_power\": 110,\n",
    "  \"fuel\": \"diesel\",\n",
    "  \"paint_color\": \"grey\",\n",
    "  \"car_type\": \"convertible\",\n",
    "  \"private_parking_available\": False,\n",
    "  \"has_gps\": True,\n",
    "  \"has_air_conditioning\": True,\n",
    "  \"automatic_car\": False,\n",
    "  \"has_getaround_connect\": True,\n",
    "  \"has_speed_regulator\": False,\n",
    "  \"winter_tires\": True\n",
    "})\n",
    "print(response.json())"
   ]
  }
 ],
 "metadata": {
  "kernelspec": {
   "display_name": "Python 3",
   "language": "python",
   "name": "python3"
  },
  "language_info": {
   "codemirror_mode": {
    "name": "ipython",
    "version": 3
   },
   "file_extension": ".py",
   "mimetype": "text/x-python",
   "name": "python",
   "nbconvert_exporter": "python",
   "pygments_lexer": "ipython3",
   "version": "3.11.3"
  },
  "orig_nbformat": 4
 },
 "nbformat": 4,
 "nbformat_minor": 2
}
